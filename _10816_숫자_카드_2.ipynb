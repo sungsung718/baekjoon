{
  "nbformat": 4,
  "nbformat_minor": 0,
  "metadata": {
    "colab": {
      "name": "#10816: 숫자 카드 2.ipynb",
      "provenance": [],
      "collapsed_sections": [],
      "authorship_tag": "ABX9TyNJmlx9bFPydZof+Ia+qyk/",
      "include_colab_link": true
    },
    "kernelspec": {
      "name": "python3",
      "display_name": "Python 3"
    },
    "language_info": {
      "name": "python"
    }
  },
  "cells": [
    {
      "cell_type": "markdown",
      "metadata": {
        "id": "view-in-github",
        "colab_type": "text"
      },
      "source": [
        "<a href=\"https://colab.research.google.com/github/sungsung718/baekjoon/blob/main/_10816_%EC%88%AB%EC%9E%90_%EC%B9%B4%EB%93%9C_2.ipynb\" target=\"_parent\"><img src=\"https://colab.research.google.com/assets/colab-badge.svg\" alt=\"Open In Colab\"/></a>"
      ]
    },
    {
      "cell_type": "code",
      "execution_count": 5,
      "metadata": {
        "colab": {
          "base_uri": "https://localhost:8080/"
        },
        "id": "YBT6DaPu0_O9",
        "outputId": "6cc128a3-e1c0-4b26-c606-1c1b57a6b754"
      },
      "outputs": [
        {
          "output_type": "stream",
          "name": "stdout",
          "text": [
            "10\n",
            "6 3 2 10 10 10 -10 -10 7\n",
            "8\n",
            "10 9 -5 2 3 4 5 -10\n",
            "3 0 0 1 1 0 0 2 "
          ]
        }
      ],
      "source": [
        "import sys\n",
        "N = int(input())\n",
        "card = input().split()\n",
        "dic = {num:0 for num in card}\n",
        "for num in card:\n",
        "    dic[num] += 1\n",
        "\n",
        "M = int(input())\n",
        "nums = input().split()\n",
        "for inp in nums:\n",
        "    if inp in dic.keys():\n",
        "        sys.stdout.write(str(dic[inp]) + ' ')\n",
        "    else:\n",
        "        sys.stdout.write(str(0) + ' ')"
      ]
    }
  ]
}