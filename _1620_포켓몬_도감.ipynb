{
  "nbformat": 4,
  "nbformat_minor": 0,
  "metadata": {
    "colab": {
      "name": "#1620: 포켓몬 도감.ipynb",
      "provenance": [],
      "authorship_tag": "ABX9TyMw8QJ0b6hroD0mq2qLoKp/",
      "include_colab_link": true
    },
    "kernelspec": {
      "name": "python3",
      "display_name": "Python 3"
    },
    "language_info": {
      "name": "python"
    }
  },
  "cells": [
    {
      "cell_type": "markdown",
      "metadata": {
        "id": "view-in-github",
        "colab_type": "text"
      },
      "source": [
        "<a href=\"https://colab.research.google.com/github/sungsung718/baekjoon/blob/main/_1620_%ED%8F%AC%EC%BC%93%EB%AA%AC_%EB%8F%84%EA%B0%90.ipynb\" target=\"_parent\"><img src=\"https://colab.research.google.com/assets/colab-badge.svg\" alt=\"Open In Colab\"/></a>"
      ]
    },
    {
      "cell_type": "code",
      "execution_count": 4,
      "metadata": {
        "colab": {
          "base_uri": "https://localhost:8080/"
        },
        "id": "cHZ9cljdt_UG",
        "outputId": "cf966bd9-d717-4f54-9acf-72c3fc517ac2"
      },
      "outputs": [
        {
          "output_type": "stream",
          "name": "stdout",
          "text": [
            "3 3\n",
            "Bulbasaur\n",
            "Pikachu\n",
            "Raichu\n",
            "3\n",
            "Raichu\n",
            "1\n",
            "Bulbasaur\n",
            "Pikachu\n",
            "2\n"
          ]
        }
      ],
      "source": [
        "import sys\n",
        "\n",
        "N, M = list(map(int, input().split()))\n",
        "pokeLst = []\n",
        "for _ in range(N):\n",
        "    pokeLst.append(input())\n",
        "\n",
        "idx_to_poke = {}\n",
        "poke_to_idx = {}\n",
        "\n",
        "for i, v in enumerate(pokeLst):\n",
        "    idx_to_poke[i+1] = v\n",
        "    poke_to_idx[v] = i+1\n",
        "\n",
        "for _ in range(M):\n",
        "    inp = input()\n",
        "    if ord(inp[0]) >= 65:\n",
        "        sys.stdout.write(str(poke_to_idx[inp]) + '\\n')\n",
        "    else:\n",
        "        sys.stdout.write(idx_to_poke[int(inp)] + '\\n')"
      ]
    },
    {
      "cell_type": "code",
      "source": [
        "print(idx_to_poke)"
      ],
      "metadata": {
        "colab": {
          "base_uri": "https://localhost:8080/"
        },
        "id": "QPrbroa4yBJv",
        "outputId": "9beecc8d-a03a-4a90-e614-d035542caa5e"
      },
      "execution_count": 3,
      "outputs": [
        {
          "output_type": "stream",
          "name": "stdout",
          "text": [
            "{1: 'Pikachu', 2: 'Raichu', 3: 'Bulbasaur'}\n"
          ]
        }
      ]
    }
  ]
}