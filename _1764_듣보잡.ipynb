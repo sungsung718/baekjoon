{
  "nbformat": 4,
  "nbformat_minor": 0,
  "metadata": {
    "colab": {
      "name": "#1764: 듣보잡.ipynb",
      "provenance": [],
      "authorship_tag": "ABX9TyODL26gWmlw4/Sm+s7hr7Qd",
      "include_colab_link": true
    },
    "kernelspec": {
      "name": "python3",
      "display_name": "Python 3"
    },
    "language_info": {
      "name": "python"
    }
  },
  "cells": [
    {
      "cell_type": "markdown",
      "metadata": {
        "id": "view-in-github",
        "colab_type": "text"
      },
      "source": [
        "<a href=\"https://colab.research.google.com/github/sungsung718/baekjoon/blob/main/_1764_%EB%93%A3%EB%B3%B4%EC%9E%A1.ipynb\" target=\"_parent\"><img src=\"https://colab.research.google.com/assets/colab-badge.svg\" alt=\"Open In Colab\"/></a>"
      ]
    },
    {
      "cell_type": "code",
      "execution_count": 8,
      "metadata": {
        "colab": {
          "base_uri": "https://localhost:8080/"
        },
        "id": "1Z9Yw6SC4rnJ",
        "outputId": "ead43493-7220-4d79-f10c-30e55bcd175e"
      },
      "outputs": [
        {
          "output_type": "stream",
          "name": "stdout",
          "text": [
            "3 4\n",
            "ohhenrie\n",
            "charlie\n",
            "baesangwook\n",
            "obama\n",
            "clinton\n",
            "baesangwook\n",
            "charlie\n",
            "2\n",
            "baesangwook\n",
            "charlie\n"
          ]
        }
      ],
      "source": [
        "import sys\n",
        "\n",
        "N, M = list(map(int, input().split()))\n",
        "\n",
        "heard = set()\n",
        "for _ in range(N):\n",
        "    heard.add(input())\n",
        "\n",
        "seen = set()\n",
        "for _ in range(M):\n",
        "    seen.add(input())\n",
        "\n",
        "result = list(heard & seen)\n",
        "result.sort()\n",
        "sys.stdout.write(str(len(result)) + '\\n')\n",
        "for name in result:\n",
        "    sys.stdout.write(name + '\\n')"
      ]
    },
    {
      "cell_type": "code",
      "source": [
        "print(result)"
      ],
      "metadata": {
        "colab": {
          "base_uri": "https://localhost:8080/"
        },
        "id": "Ag1ErhU56K5r",
        "outputId": "049844e3-2645-4a87-9ef9-114fd3205cd8"
      },
      "execution_count": 9,
      "outputs": [
        {
          "output_type": "stream",
          "name": "stdout",
          "text": [
            "['baesangwook', 'charlie']\n"
          ]
        }
      ]
    }
  ]
}