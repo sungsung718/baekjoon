{
  "nbformat": 4,
  "nbformat_minor": 0,
  "metadata": {
    "colab": {
      "name": "#14425: 문자열 집합.ipynb",
      "provenance": [],
      "authorship_tag": "ABX9TyOoBUhDaok1TH8bTTc7SrUc",
      "include_colab_link": true
    },
    "kernelspec": {
      "name": "python3",
      "display_name": "Python 3"
    },
    "language_info": {
      "name": "python"
    }
  },
  "cells": [
    {
      "cell_type": "markdown",
      "metadata": {
        "id": "view-in-github",
        "colab_type": "text"
      },
      "source": [
        "<a href=\"https://colab.research.google.com/github/sungsung718/baekjoon/blob/main/_14425_%EB%AC%B8%EC%9E%90%EC%97%B4_%EC%A7%91%ED%95%A9.ipynb\" target=\"_parent\"><img src=\"https://colab.research.google.com/assets/colab-badge.svg\" alt=\"Open In Colab\"/></a>"
      ]
    },
    {
      "cell_type": "code",
      "execution_count": 2,
      "metadata": {
        "colab": {
          "base_uri": "https://localhost:8080/"
        },
        "id": "6_L8irk-nxgA",
        "outputId": "a6725792-f820-40db-cc5f-28df108a36c8"
      },
      "outputs": [
        {
          "output_type": "stream",
          "name": "stdout",
          "text": [
            "5 11\n",
            "baekjoononlinejudge\n",
            "startlink\n",
            "codeplus\n",
            "sundaycoding\n",
            "codingsh\n",
            "baekjoon\n",
            "codeplus\n",
            "codeminus\n",
            "startlink\n",
            "starlink\n",
            "sundaycoding\n",
            "codingsh\n",
            "codinghs\n",
            "sondaycoding\n",
            "startrink\n",
            "icerink\n",
            "4\n"
          ]
        }
      ],
      "source": [
        "import sys\n",
        "\n",
        "N, M = tuple(map(int, input().split()))\n",
        "lst1 = []\n",
        "for _ in range(N):\n",
        "    lst1.append(input())\n",
        "\n",
        "lst2 = [0] * M\n",
        "for i in range(M):\n",
        "    if input() in lst1:\n",
        "        lst2[i] += 1\n",
        "\n",
        "print(sum(lst2))\n"
      ]
    },
    {
      "cell_type": "code",
      "source": [
        "print(s1&s2)"
      ],
      "metadata": {
        "colab": {
          "base_uri": "https://localhost:8080/"
        },
        "id": "q-0G3X_arM1S",
        "outputId": "3109b43d-5ee9-4e64-da3b-47599153f600"
      },
      "execution_count": 3,
      "outputs": [
        {
          "output_type": "stream",
          "name": "stdout",
          "text": [
            "{'codeplus', 'codingsh', 'sundaycoding', 'startlink'}\n"
          ]
        }
      ]
    }
  ]
}