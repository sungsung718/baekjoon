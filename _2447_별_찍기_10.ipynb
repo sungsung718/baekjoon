{
  "nbformat": 4,
  "nbformat_minor": 0,
  "metadata": {
    "colab": {
      "name": "#2447: 별 찍기 - 10",
      "provenance": [],
      "collapsed_sections": [],
      "authorship_tag": "ABX9TyNTU9gT7SnnR2iflT9D9fY3",
      "include_colab_link": true
    },
    "kernelspec": {
      "name": "python3",
      "display_name": "Python 3"
    },
    "language_info": {
      "name": "python"
    }
  },
  "cells": [
    {
      "cell_type": "markdown",
      "metadata": {
        "id": "view-in-github",
        "colab_type": "text"
      },
      "source": [
        "<a href=\"https://colab.research.google.com/github/sungsung718/baekjoon/blob/main/_2447_%EB%B3%84_%EC%B0%8D%EA%B8%B0_10.ipynb\" target=\"_parent\"><img src=\"https://colab.research.google.com/assets/colab-badge.svg\" alt=\"Open In Colab\"/></a>"
      ]
    },
    {
      "cell_type": "code",
      "source": [
        "import time\n",
        "import sys\n",
        "N=int(input())\n",
        "start=time.time()\n",
        "res = [['*' for j in range(N)] for i in range(N)]\n",
        "box = 1\n",
        "def countingstar(n, box):\n",
        "    if n == 1:\n",
        "        res[0][0] = '*'\n",
        "    else:\n",
        "        n = n // 3\n",
        "        for k in range(box):\n",
        "            for l in range(box):\n",
        "                for i in range(n+k*3*n, 2*n + k*3*n):\n",
        "                    for j in range(n+l*3*n, 2*n+l*3*n):\n",
        "                        res[i][j] = ' '\n",
        "        i, j = i % n, j % n\n",
        "        box = box * 3\n",
        "        countingstar(n, box)\n",
        "countingstar(N, box)\n",
        "for i in range(N):\n",
        "    sys.stdout.write(''.join(res[i]))\n",
        "    sys.stdout.write('\\n')\n",
        "print(\"time is {:.3f}\".format(time.time()-start))"
      ],
      "metadata": {
        "colab": {
          "base_uri": "https://localhost:8080/"
        },
        "id": "fhsN89YcKH86",
        "outputId": "a8769fef-2517-4015-fd3e-e088d8c3f235"
      },
      "execution_count": 76,
      "outputs": [
        {
          "output_type": "stream",
          "name": "stdout",
          "text": [
            "27\n",
            "***************************\n",
            "* ** ** ** ** ** ** ** ** *\n",
            "***************************\n",
            "***   ******   ******   ***\n",
            "* *   * ** *   * ** *   * *\n",
            "***   ******   ******   ***\n",
            "***************************\n",
            "* ** ** ** ** ** ** ** ** *\n",
            "***************************\n",
            "*********         *********\n",
            "* ** ** *         * ** ** *\n",
            "*********         *********\n",
            "***   ***         ***   ***\n",
            "* *   * *         * *   * *\n",
            "***   ***         ***   ***\n",
            "*********         *********\n",
            "* ** ** *         * ** ** *\n",
            "*********         *********\n",
            "***************************\n",
            "* ** ** ** ** ** ** ** ** *\n",
            "***************************\n",
            "***   ******   ******   ***\n",
            "* *   * ** *   * ** *   * *\n",
            "***   ******   ******   ***\n",
            "***************************\n",
            "* ** ** ** ** ** ** ** ** *\n",
            "***************************\n",
            "time is 0.003\n"
          ]
        }
      ]
    }
  ]
}