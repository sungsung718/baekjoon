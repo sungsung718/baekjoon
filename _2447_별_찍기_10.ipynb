{
  "nbformat": 4,
  "nbformat_minor": 0,
  "metadata": {
    "colab": {
      "name": "#2447: 별 찍기 - 10",
      "provenance": [],
      "collapsed_sections": [],
      "authorship_tag": "ABX9TyOG907V1YW3p70oC/+OGgi4",
      "include_colab_link": true
    },
    "kernelspec": {
      "name": "python3",
      "display_name": "Python 3"
    },
    "language_info": {
      "name": "python"
    }
  },
  "cells": [
    {
      "cell_type": "markdown",
      "metadata": {
        "id": "view-in-github",
        "colab_type": "text"
      },
      "source": [
        "<a href=\"https://colab.research.google.com/github/sungsung718/baekjoon/blob/main/_2447_%EB%B3%84_%EC%B0%8D%EA%B8%B0_10.ipynb\" target=\"_parent\"><img src=\"https://colab.research.google.com/assets/colab-badge.svg\" alt=\"Open In Colab\"/></a>"
      ]
    },
    {
      "cell_type": "code",
      "execution_count": 4,
      "metadata": {
        "id": "LP5b16IQHIKD",
        "colab": {
          "base_uri": "https://localhost:8080/"
        },
        "outputId": "4d4f082e-69eb-4a8b-f884-2e28c5d9a914"
      },
      "outputs": [
        {
          "output_type": "stream",
          "name": "stdout",
          "text": [
            "9\n",
            "*********\n",
            "* ** ** *\n",
            "*********\n",
            "***   ***\n",
            "* *   * *\n",
            "***   ***\n",
            "*********\n",
            "* ** ** *\n",
            "*********\n"
          ]
        }
      ],
      "source": [
        "def countingstar(i, j, n):\n",
        "    if n == 1:\n",
        "        return '*'\n",
        "    else:\n",
        "        n = n // 3\n",
        "        if (i // n == 1) and (j // n == 1):\n",
        "            return ' '\n",
        "        else:\n",
        "            i, j = i % n, j % n\n",
        "            return countingstar(i, j, n)\n",
        "\n",
        "N = int(input())\n",
        "res_lst = [[countingstar(i, j, N) for j in range(N)] for i in range(N)]\n",
        "for i in range(N):\n",
        "        print(''.join(res_lst[i]))"
      ]
    }
  ]
}