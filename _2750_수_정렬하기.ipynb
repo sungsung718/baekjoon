{
  "nbformat": 4,
  "nbformat_minor": 0,
  "metadata": {
    "colab": {
      "name": "#2750: 수 정렬하기.ipynb",
      "provenance": [],
      "collapsed_sections": [],
      "authorship_tag": "ABX9TyOksh92KZM0IgA2ordo40Tp",
      "include_colab_link": true
    },
    "kernelspec": {
      "name": "python3",
      "display_name": "Python 3"
    },
    "language_info": {
      "name": "python"
    }
  },
  "cells": [
    {
      "cell_type": "markdown",
      "metadata": {
        "id": "view-in-github",
        "colab_type": "text"
      },
      "source": [
        "<a href=\"https://colab.research.google.com/github/sungsung718/baekjoon/blob/main/_2750_%EC%88%98_%EC%A0%95%EB%A0%AC%ED%95%98%EA%B8%B0.ipynb\" target=\"_parent\"><img src=\"https://colab.research.google.com/assets/colab-badge.svg\" alt=\"Open In Colab\"/></a>"
      ]
    },
    {
      "cell_type": "code",
      "execution_count": 8,
      "metadata": {
        "colab": {
          "base_uri": "https://localhost:8080/"
        },
        "id": "ttO2RJqMfrUV",
        "outputId": "9f9cf3e7-8b47-4e9a-e20a-c68f2a69e02f"
      },
      "outputs": [
        {
          "output_type": "stream",
          "name": "stdout",
          "text": [
            "5\n",
            "5\n",
            "2\n",
            "4\n",
            "3\n",
            "1\n",
            "1\n",
            "2\n",
            "3\n",
            "4\n",
            "5\n"
          ]
        }
      ],
      "source": [
        "import sys\n",
        "\n",
        "lst = []\n",
        "N = int(sys.stdin.readline())\n",
        "for i in range(N):\n",
        "    lst.append(int(sys.stdin.readline()))\n",
        "lst.sort()\n",
        "\n",
        "dic = {}\n",
        "for idx, v in enumerate(lst):\n",
        "    dic[idx] = str(v)\n",
        "\n",
        "for i in range(N):\n",
        "    sys.stdout.write(dic[i] + '\\n')"
      ]
    }
  ]
}