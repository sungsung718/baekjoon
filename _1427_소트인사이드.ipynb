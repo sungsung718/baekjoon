{
  "nbformat": 4,
  "nbformat_minor": 0,
  "metadata": {
    "colab": {
      "name": "#1427: 소트인사이드.ipynb",
      "provenance": [],
      "collapsed_sections": [],
      "authorship_tag": "ABX9TyPHb0B+zLx6ig0tVwR5Kqn0",
      "include_colab_link": true
    },
    "kernelspec": {
      "name": "python3",
      "display_name": "Python 3"
    },
    "language_info": {
      "name": "python"
    }
  },
  "cells": [
    {
      "cell_type": "markdown",
      "metadata": {
        "id": "view-in-github",
        "colab_type": "text"
      },
      "source": [
        "<a href=\"https://colab.research.google.com/github/sungsung718/baekjoon/blob/main/_1427_%EC%86%8C%ED%8A%B8%EC%9D%B8%EC%82%AC%EC%9D%B4%EB%93%9C.ipynb\" target=\"_parent\"><img src=\"https://colab.research.google.com/assets/colab-badge.svg\" alt=\"Open In Colab\"/></a>"
      ]
    },
    {
      "cell_type": "code",
      "execution_count": 12,
      "metadata": {
        "colab": {
          "base_uri": "https://localhost:8080/"
        },
        "id": "0-aJiQORuN63",
        "outputId": "f5a9cbbd-b55b-4e87-c25c-fd7d6085e8d2"
      },
      "outputs": [
        {
          "output_type": "stream",
          "name": "stdout",
          "text": [
            "500613009\n",
            "965310000"
          ]
        }
      ],
      "source": [
        "import sys\n",
        "\n",
        "N = input()\n",
        "\n",
        "result = [0]*10 #counting 정렬. index: 숫자, value: 개수\n",
        "for digit in N:\n",
        "    result[int(digit)] += 1\n",
        "\n",
        "for idx in reversed(range(10)):\n",
        "    for k in range(result[idx]):\n",
        "        sys.stdout.write(str(idx))"
      ]
    }
  ]
}