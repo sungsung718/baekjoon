{
  "nbformat": 4,
  "nbformat_minor": 0,
  "metadata": {
    "colab": {
      "name": "#10815: 숫자 카드.ipynb",
      "provenance": [],
      "collapsed_sections": [],
      "authorship_tag": "ABX9TyPAsvlVsmqZiHI1uK+iwF7+",
      "include_colab_link": true
    },
    "kernelspec": {
      "name": "python3",
      "display_name": "Python 3"
    },
    "language_info": {
      "name": "python"
    }
  },
  "cells": [
    {
      "cell_type": "markdown",
      "metadata": {
        "id": "view-in-github",
        "colab_type": "text"
      },
      "source": [
        "<a href=\"https://colab.research.google.com/github/sungsung718/baekjoon/blob/main/_10815_%EC%88%AB%EC%9E%90_%EC%B9%B4%EB%93%9C.ipynb\" target=\"_parent\"><img src=\"https://colab.research.google.com/assets/colab-badge.svg\" alt=\"Open In Colab\"/></a>"
      ]
    },
    {
      "cell_type": "code",
      "source": [
        "def biSearch(num, lst, start, end):\n",
        "    while start <= end:\n",
        "        mid = (start + end) // 2\n",
        "        if lst[mid] == num:\n",
        "            return True\n",
        "        elif lst[mid] > num:\n",
        "            end = mid - 1\n",
        "        else:\n",
        "            start = mid + 1\n",
        "    return False"
      ],
      "metadata": {
        "id": "jGj8TB-qSvPx"
      },
      "execution_count": 74,
      "outputs": []
    },
    {
      "cell_type": "code",
      "source": [
        "import sys\n",
        "\n",
        "N = int(input())\n",
        "yours = sorted(list(map(int, input().split())))\n",
        "M = int(input())\n",
        "mine = list(map(int, input().split()))\n",
        "\n",
        "result = {}\n",
        "for val in mine:\n",
        "    if biSearch(val, yours, 0, N-1):\n",
        "        result[val] = 1\n",
        "    else:\n",
        "        result[val] = 0\n",
        "\n",
        "for val in mine:\n",
        "    sys.stdout.write(str(result[val]) + ' ')"
      ],
      "metadata": {
        "colab": {
          "base_uri": "https://localhost:8080/"
        },
        "id": "x_CftXXvSR4q",
        "outputId": "024827d8-fad6-48c5-a644-02e0ddfca8e6"
      },
      "execution_count": 78,
      "outputs": [
        {
          "output_type": "stream",
          "name": "stdout",
          "text": [
            "5\n",
            "6 3 2 -10 10\n",
            "8\n",
            "10 9 -5 2 3 4 5 -10\n",
            "1 0 0 1 1 0 0 1 "
          ]
        }
      ]
    }
  ]
}