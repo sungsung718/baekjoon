{
  "nbformat": 4,
  "nbformat_minor": 0,
  "metadata": {
    "colab": {
      "name": "#11650: 좌표 정렬하기",
      "provenance": [],
      "collapsed_sections": [],
      "authorship_tag": "ABX9TyOI+5nhRYRChzFfuGcEiD2s",
      "include_colab_link": true
    },
    "kernelspec": {
      "name": "python3",
      "display_name": "Python 3"
    },
    "language_info": {
      "name": "python"
    }
  },
  "cells": [
    {
      "cell_type": "markdown",
      "metadata": {
        "id": "view-in-github",
        "colab_type": "text"
      },
      "source": [
        "<a href=\"https://colab.research.google.com/github/sungsung718/baekjoon/blob/main/_11650_%EC%A2%8C%ED%91%9C_%EC%A0%95%EB%A0%AC%ED%95%98%EA%B8%B0.ipynb\" target=\"_parent\"><img src=\"https://colab.research.google.com/assets/colab-badge.svg\" alt=\"Open In Colab\"/></a>"
      ]
    },
    {
      "cell_type": "code",
      "execution_count": 2,
      "metadata": {
        "colab": {
          "base_uri": "https://localhost:8080/"
        },
        "id": "HeUkcSjGyKq4",
        "outputId": "831cc0c2-6b48-484c-e72e-32b65db42273"
      },
      "outputs": [
        {
          "output_type": "stream",
          "name": "stdout",
          "text": [
            "5\n",
            "3 4\n",
            "1 1\n",
            "1 -1\n",
            "2 2\n",
            "3 3\n",
            "1 -1\n",
            "1 1\n",
            "2 2\n",
            "3 3\n",
            "3 4\n"
          ]
        }
      ],
      "source": [
        "#11650\n",
        "import sys\n",
        "\n",
        "N = int(input())\n",
        "dic = {}\n",
        "for _ in range(N):\n",
        "    a, b = tuple(map(int, input().split()))\n",
        "    if a in dic.keys():\n",
        "        dic[a].append(b)\n",
        "    else: \n",
        "        dic[a] = []\n",
        "        dic[a].append(b)\n",
        "z = sorted(dic.keys())\n",
        "for i in z:\n",
        "    y_sameX = sorted(dic[i])\n",
        "    for j in y_sameX:\n",
        "        sys.stdout.write(str(i) + ' ' + str(j) + '\\n')"
      ]
    },
    {
      "cell_type": "code",
      "source": [
        "#11651\n",
        "import sys\n",
        "\n",
        "N = int(input())\n",
        "dic = {}\n",
        "for _ in range(N):\n",
        "    a, b = tuple(map(int, input().split()))\n",
        "    if b in dic.keys():\n",
        "        dic[b].append(a)\n",
        "    else: \n",
        "        dic[b] = []\n",
        "        dic[b].append(a)\n",
        "z = sorted(dic.keys())\n",
        "for i in z:\n",
        "    x_sameY = sorted(dic[i])\n",
        "    for j in x_sameY:\n",
        "        sys.stdout.write(str(j) + ' ' + str(i) + '\\n')"
      ],
      "metadata": {
        "colab": {
          "base_uri": "https://localhost:8080/"
        },
        "id": "U_xsz-zi5x4F",
        "outputId": "d3ed082e-f332-4933-831e-e688a11fbcbb"
      },
      "execution_count": 13,
      "outputs": [
        {
          "output_type": "stream",
          "name": "stdout",
          "text": [
            "5\n",
            "0 4\n",
            "1 2\n",
            "1 -1\n",
            "2 2\n",
            "3 3\n",
            "1 -1\n",
            "1 2\n",
            "2 2\n",
            "3 3\n",
            "0 4\n"
          ]
        }
      ]
    }
  ]
}