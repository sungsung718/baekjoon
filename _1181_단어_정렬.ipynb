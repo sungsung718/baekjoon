{
  "nbformat": 4,
  "nbformat_minor": 0,
  "metadata": {
    "colab": {
      "name": "#1181: 단어 정렬.ipynb",
      "provenance": [],
      "collapsed_sections": [],
      "authorship_tag": "ABX9TyO9Hniea28Q/L9RpZRvuzth",
      "include_colab_link": true
    },
    "kernelspec": {
      "name": "python3",
      "display_name": "Python 3"
    },
    "language_info": {
      "name": "python"
    }
  },
  "cells": [
    {
      "cell_type": "markdown",
      "metadata": {
        "id": "view-in-github",
        "colab_type": "text"
      },
      "source": [
        "<a href=\"https://colab.research.google.com/github/sungsung718/baekjoon/blob/main/_1181_%EB%8B%A8%EC%96%B4_%EC%A0%95%EB%A0%AC.ipynb\" target=\"_parent\"><img src=\"https://colab.research.google.com/assets/colab-badge.svg\" alt=\"Open In Colab\"/></a>"
      ]
    },
    {
      "cell_type": "code",
      "execution_count": 2,
      "metadata": {
        "colab": {
          "base_uri": "https://localhost:8080/"
        },
        "id": "3wkfmKET-9z5",
        "outputId": "04c2e0d2-a08d-4364-bd99-396e480da304"
      },
      "outputs": [
        {
          "output_type": "stream",
          "name": "stdout",
          "text": [
            "13\n",
            "but\n",
            "i\n",
            "wont\n",
            "hesitate\n",
            "no\n",
            "more\n",
            "no\n",
            "more\n",
            "it\n",
            "cannot\n",
            "wait\n",
            "im\n",
            "yours\n",
            "i\n",
            "im\n",
            "it\n",
            "no\n",
            "but\n",
            "more\n",
            "wait\n",
            "wont\n",
            "yours\n",
            "cannot\n",
            "hesitate\n"
          ]
        }
      ],
      "source": [
        "import sys\n",
        "\n",
        "N = int(input())\n",
        "dic = {}\n",
        "for _ in range(N):\n",
        "    b = input()\n",
        "    a = len(b)\n",
        "    if a in dic.keys():\n",
        "        dic[a].append(b)\n",
        "    else: \n",
        "        dic[a] = []\n",
        "        dic[a].append(b)\n",
        "z = sorted(dic.keys())\n",
        "for i in z:\n",
        "    y_sameX = sorted(list(set(dic[i])))\n",
        "    for j in y_sameX:\n",
        "        sys.stdout.write(j + '\\n')"
      ]
    }
  ]
}