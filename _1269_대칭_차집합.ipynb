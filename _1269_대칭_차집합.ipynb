{
  "nbformat": 4,
  "nbformat_minor": 0,
  "metadata": {
    "colab": {
      "name": "#1269: 대칭 차집합.ipynb",
      "provenance": [],
      "authorship_tag": "ABX9TyMghKxa3RJteuDpdZEoxKzT",
      "include_colab_link": true
    },
    "kernelspec": {
      "name": "python3",
      "display_name": "Python 3"
    },
    "language_info": {
      "name": "python"
    }
  },
  "cells": [
    {
      "cell_type": "markdown",
      "metadata": {
        "id": "view-in-github",
        "colab_type": "text"
      },
      "source": [
        "<a href=\"https://colab.research.google.com/github/sungsung718/baekjoon/blob/main/_1269_%EB%8C%80%EC%B9%AD_%EC%B0%A8%EC%A7%91%ED%95%A9.ipynb\" target=\"_parent\"><img src=\"https://colab.research.google.com/assets/colab-badge.svg\" alt=\"Open In Colab\"/></a>"
      ]
    },
    {
      "cell_type": "code",
      "execution_count": null,
      "metadata": {
        "id": "X-T2SPi18xkq"
      },
      "outputs": [],
      "source": [
        "a, b = tuple(map(int, input().split()))\n",
        "A = set(list(map(int, input().split())))\n",
        "B = set(list(map(int, input().split())))\n",
        "c = len(A&B)\n",
        "print(a+b-2*c)"
      ]
    }
  ]
}