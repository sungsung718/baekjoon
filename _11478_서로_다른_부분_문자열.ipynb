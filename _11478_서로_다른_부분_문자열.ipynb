{
  "nbformat": 4,
  "nbformat_minor": 0,
  "metadata": {
    "colab": {
      "name": "#11478: 서로 다른 부분 문자열.ipynb",
      "provenance": [],
      "collapsed_sections": [],
      "authorship_tag": "ABX9TyNaANpSx6SPBD68roLOvsBY",
      "include_colab_link": true
    },
    "kernelspec": {
      "name": "python3",
      "display_name": "Python 3"
    },
    "language_info": {
      "name": "python"
    }
  },
  "cells": [
    {
      "cell_type": "markdown",
      "metadata": {
        "id": "view-in-github",
        "colab_type": "text"
      },
      "source": [
        "<a href=\"https://colab.research.google.com/github/sungsung718/baekjoon/blob/main/_11478_%EC%84%9C%EB%A1%9C_%EB%8B%A4%EB%A5%B8_%EB%B6%80%EB%B6%84_%EB%AC%B8%EC%9E%90%EC%97%B4.ipynb\" target=\"_parent\"><img src=\"https://colab.research.google.com/assets/colab-badge.svg\" alt=\"Open In Colab\"/></a>"
      ]
    },
    {
      "cell_type": "code",
      "source": [
        "#단순 버전\n",
        "import sys\n",
        "\n",
        "s = input()\n",
        "strLen = len(s)\n",
        "resSet = set()\n",
        "for i in range(1, strLen+1):  #문자열 길이\n",
        "    for j in range(strLen +1 -i): #부분 문자열 시작 index \n",
        "        resSet.add(s[j:j+i])\n",
        "res = len(resSet)\n",
        "sys.stdout.write(str(res))\n"
      ],
      "metadata": {
        "id": "0iYwQOM07_cS",
        "colab": {
          "base_uri": "https://localhost:8080/"
        },
        "outputId": "faf2de88-3a8a-4c54-8b14-6180ef14b32e"
      },
      "execution_count": 5,
      "outputs": [
        {
          "output_type": "stream",
          "name": "stdout",
          "text": [
            "ababc\n",
            "12"
          ]
        }
      ]
    }
  ]
}