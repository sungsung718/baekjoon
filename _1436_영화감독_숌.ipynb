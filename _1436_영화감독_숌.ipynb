{
  "nbformat": 4,
  "nbformat_minor": 0,
  "metadata": {
    "colab": {
      "name": "#1436: 영화감독 숌.ipynb",
      "provenance": [],
      "collapsed_sections": [],
      "authorship_tag": "ABX9TyMF1cHUalX3U12i0zoWRBu2",
      "include_colab_link": true
    },
    "kernelspec": {
      "name": "python3",
      "display_name": "Python 3"
    },
    "language_info": {
      "name": "python"
    }
  },
  "cells": [
    {
      "cell_type": "markdown",
      "metadata": {
        "id": "view-in-github",
        "colab_type": "text"
      },
      "source": [
        "<a href=\"https://colab.research.google.com/github/sungsung718/baekjoon/blob/main/_1436_%EC%98%81%ED%99%94%EA%B0%90%EB%8F%85_%EC%88%8C.ipynb\" target=\"_parent\"><img src=\"https://colab.research.google.com/assets/colab-badge.svg\" alt=\"Open In Colab\"/></a>"
      ]
    },
    {
      "cell_type": "code",
      "execution_count": 7,
      "metadata": {
        "id": "TdvT9S2TOfdt",
        "colab": {
          "base_uri": "https://localhost:8080/"
        },
        "outputId": "000ea289-0ab3-4ced-d61f-ddc57f5673ac"
      },
      "outputs": [
        {
          "output_type": "stream",
          "name": "stdout",
          "text": [
            "500\n",
            "166699\n"
          ]
        }
      ],
      "source": [
        "N = int(input())\n",
        "\n",
        "def isEnd(x):\n",
        "    inputs = str(x)\n",
        "    streak = 0\n",
        "    for letter in inputs:\n",
        "        if int(letter) == 6:\n",
        "            streak += 1\n",
        "        else: \n",
        "            streak = 0\n",
        "        if streak >= 3:\n",
        "            return True\n",
        "            break\n",
        "    return False\n",
        "\n",
        "idx = 0\n",
        "num = 665\n",
        "while idx <  N:\n",
        "    num += 1\n",
        "    if isEnd(num):\n",
        "        idx += 1\n",
        "print(num)"
      ]
    }
  ]
}