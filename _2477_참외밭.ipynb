{
  "nbformat": 4,
  "nbformat_minor": 0,
  "metadata": {
    "colab": {
      "name": "#2477: 참외밭.ipynb",
      "provenance": [],
      "collapsed_sections": [],
      "authorship_tag": "ABX9TyO2LNm1oZBM1KeKGjW+tAnN",
      "include_colab_link": true
    },
    "kernelspec": {
      "name": "python3",
      "display_name": "Python 3"
    },
    "language_info": {
      "name": "python"
    }
  },
  "cells": [
    {
      "cell_type": "markdown",
      "metadata": {
        "id": "view-in-github",
        "colab_type": "text"
      },
      "source": [
        "<a href=\"https://colab.research.google.com/github/sungsung718/baekjoon/blob/main/_2477_%EC%B0%B8%EC%99%B8%EB%B0%AD.ipynb\" target=\"_parent\"><img src=\"https://colab.research.google.com/assets/colab-badge.svg\" alt=\"Open In Colab\"/></a>"
      ]
    },
    {
      "cell_type": "code",
      "execution_count": 3,
      "metadata": {
        "id": "_CP-mJ14Gpsq",
        "colab": {
          "base_uri": "https://localhost:8080/"
        },
        "outputId": "af692095-51a8-4e96-b515-d36e19592104"
      },
      "outputs": [
        {
          "output_type": "stream",
          "name": "stdout",
          "text": [
            "7\n",
            "4 50\n",
            "2 160\n",
            "3 30\n",
            "1 60\n",
            "3 20\n",
            "1 100\n",
            "47600\n"
          ]
        }
      ],
      "source": [
        "K = int(input())\n",
        "\n",
        "sides = []\n",
        "dir = []\n",
        "for _ in range(6):\n",
        "    a, b = tuple(map(int, input().split()))\n",
        "    dir.append(a)\n",
        "    sides.append(b)\n",
        "for i in range(3):\n",
        "    dir.append(dir[i]*1)\n",
        "\n",
        "horizon = [num for idx, num in enumerate(sides) if idx % 2 == 0]\n",
        "vertical = [num for idx, num in enumerate(sides) if idx % 2 == 1]\n",
        "\n",
        "longH = max(horizon)\n",
        "longV = max(vertical)\n",
        "\n",
        "for i in range(6):\n",
        "    if (dir[i] == dir[i+2]) and (dir[i+1] == dir[i+3]):\n",
        "        x = sides[(i+2)%6]\n",
        "        y = sides[(i+1)%6]\n",
        "        break\n",
        "\n",
        "print(K*(longH*longV - x*y))"
      ]
    }
  ]
}