{
  "nbformat": 4,
  "nbformat_minor": 0,
  "metadata": {
    "colab": {
      "name": "#1018: 체스판 다시 칠하기",
      "provenance": [],
      "collapsed_sections": [],
      "authorship_tag": "ABX9TyOC0zA9P4IRlbbhmumiYhp7",
      "include_colab_link": true
    },
    "kernelspec": {
      "name": "python3",
      "display_name": "Python 3"
    },
    "language_info": {
      "name": "python"
    }
  },
  "cells": [
    {
      "cell_type": "markdown",
      "metadata": {
        "id": "view-in-github",
        "colab_type": "text"
      },
      "source": [
        "<a href=\"https://colab.research.google.com/github/sungsung718/baekjoon/blob/main/_1018_%EC%B2%B4%EC%8A%A4%ED%8C%90_%EB%8B%A4%EC%8B%9C_%EC%B9%A0%ED%95%98%EA%B8%B0.ipynb\" target=\"_parent\"><img src=\"https://colab.research.google.com/assets/colab-badge.svg\" alt=\"Open In Colab\"/></a>"
      ]
    },
    {
      "cell_type": "code",
      "execution_count": 20,
      "metadata": {
        "colab": {
          "base_uri": "https://localhost:8080/"
        },
        "id": "HaVQEPnswOe8",
        "outputId": "7d6158d3-56f2-4e5e-d539-f4dbd98b715c"
      },
      "outputs": [
        {
          "output_type": "stream",
          "name": "stdout",
          "text": [
            "9 23\n",
            "BBBBBBBBBBBBBBBBBBBBBBB\n",
            "BBBBBBBBBBBBBBBBBBBBBBB\n",
            "BBBBBBBBBBBBBBBBBBBBBBB\n",
            "BBBBBBBBBBBBBBBBBBBBBBB\n",
            "BBBBBBBBBBBBBBBBBBBBBBB\n",
            "BBBBBBBBBBBBBBBBBBBBBBB\n",
            "BBBBBBBBBBBBBBBBBBBBBBB\n",
            "BBBBBBBBBBBBBBBBBBBBBBB\n",
            "BBBBBBBBBBBBBBBBBBBBBBW\n",
            "31\n"
          ]
        }
      ],
      "source": [
        "n, m  = tuple(map(int, input().split()))\n",
        "\n",
        "data = []\n",
        "for i in range(n):\n",
        "    data.append(input())\n",
        "\n",
        "def chess(cut):\n",
        "    res = 0\n",
        "    for i in range(8):\n",
        "        line = cut[i]\n",
        "        for j in range(8):\n",
        "            if (i+j) % 2 == 0:\n",
        "                if line[j] == 'W':\n",
        "                    res += 1\n",
        "            else:\n",
        "                if line[j] == 'B':\n",
        "                    res += 1\n",
        "\n",
        "    if res > 32:\n",
        "        res = 64 - res\n",
        "\n",
        "    return res\n",
        "\n",
        "lst = []\n",
        "\n",
        "for i in range(n-7):\n",
        "    for j in range(m-7):\n",
        "        temp = [[data[x][y] for y in range(j, j+8)] for x in range(i, i+8)]\n",
        "        lst.append(chess(temp))\n",
        "\n",
        "print(min(lst))"
      ]
    }
  ]
}