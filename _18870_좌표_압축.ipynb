{
  "nbformat": 4,
  "nbformat_minor": 0,
  "metadata": {
    "colab": {
      "name": "#18870 좌표 압축",
      "provenance": [],
      "collapsed_sections": [],
      "authorship_tag": "ABX9TyMi7lX9gtWdCMsVXEsljszG",
      "include_colab_link": true
    },
    "kernelspec": {
      "name": "python3",
      "display_name": "Python 3"
    },
    "language_info": {
      "name": "python"
    }
  },
  "cells": [
    {
      "cell_type": "markdown",
      "metadata": {
        "id": "view-in-github",
        "colab_type": "text"
      },
      "source": [
        "<a href=\"https://colab.research.google.com/github/sungsung718/baekjoon/blob/main/_18870_%EC%A2%8C%ED%91%9C_%EC%95%95%EC%B6%95.ipynb\" target=\"_parent\"><img src=\"https://colab.research.google.com/assets/colab-badge.svg\" alt=\"Open In Colab\"/></a>"
      ]
    },
    {
      "cell_type": "code",
      "execution_count": 12,
      "metadata": {
        "id": "n3_94PDxHbyD",
        "colab": {
          "base_uri": "https://localhost:8080/"
        },
        "outputId": "7d4f36ee-bad9-467e-b1d8-ea3470a42f6e"
      },
      "outputs": [
        {
          "output_type": "stream",
          "name": "stdout",
          "text": [
            "5\n",
            "2 4 -10 4 -9\n",
            "{-10: '0', -9: '1', 2: '2', 4: '3'}\n",
            "2 3 0 3 1 "
          ]
        }
      ],
      "source": [
        "import sys\n",
        "N = int(input()) #자료 길이\n",
        "nums = list(map(int, input().split())) #주어진 숫자\n",
        "ordered = sorted(list(set(nums))) #서로 다른 숫자를 순서대로 나열\n",
        "dic = {}\n",
        "for v, i in enumerate(ordered):\n",
        "    dic[i] = str(v)\n",
        "for num in nums:\n",
        "    sys.stdout.write(dic[num])\n",
        "    sys.stdout.write(' ')"
      ]
    },
    {
      "cell_type": "code",
      "source": [
        ""
      ],
      "metadata": {
        "id": "ed1J52_4IJL7"
      },
      "execution_count": null,
      "outputs": []
    }
  ]
}