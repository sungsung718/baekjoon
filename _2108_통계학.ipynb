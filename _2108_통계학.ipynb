{
  "nbformat": 4,
  "nbformat_minor": 0,
  "metadata": {
    "colab": {
      "name": "#2108: 통계학.ipynb",
      "provenance": [],
      "collapsed_sections": [],
      "authorship_tag": "ABX9TyO3vkPysTHVuU2vU/Lw0fjR",
      "include_colab_link": true
    },
    "kernelspec": {
      "name": "python3",
      "display_name": "Python 3"
    },
    "language_info": {
      "name": "python"
    }
  },
  "cells": [
    {
      "cell_type": "markdown",
      "metadata": {
        "id": "view-in-github",
        "colab_type": "text"
      },
      "source": [
        "<a href=\"https://colab.research.google.com/github/sungsung718/baekjoon/blob/main/_2108_%ED%86%B5%EA%B3%84%ED%95%99.ipynb\" target=\"_parent\"><img src=\"https://colab.research.google.com/assets/colab-badge.svg\" alt=\"Open In Colab\"/></a>"
      ]
    },
    {
      "cell_type": "code",
      "execution_count": 14,
      "metadata": {
        "colab": {
          "base_uri": "https://localhost:8080/"
        },
        "id": "57qgjl1a8q-r",
        "outputId": "cafc62fd-679a-4777-d2bf-22ba1908bc81"
      },
      "outputs": [
        {
          "output_type": "stream",
          "name": "stdout",
          "text": [
            "3\n",
            "0\n",
            "0\n",
            "-1\n",
            "0\n",
            "0\n",
            "0\n",
            "1\n"
          ]
        }
      ],
      "source": [
        "import sys\n",
        "N = int(input())\n",
        "lst = [0] * 8001  #index: 숫자, value: 횟수, -4000이 index 0으로 저장\n",
        "result = [] \n",
        "for i in range(N) :\n",
        "    lst[int(input()) + 4000] += 1\n",
        "\n",
        "for idx in range(8001) :\n",
        "    for k in range(lst[idx]):\n",
        "        result.append(idx - 4000)\n",
        "\n",
        "avg = round(sum(result)/N)\n",
        "med = result[(N-1)//2]\n",
        "rng = result[-1] - result[0]\n",
        "\n",
        "mode_count = max(lst)\n",
        "mode_lst = [idx - 4000 for idx in range(8001) if lst[idx] == mode_count]\n",
        "if len(mode_lst) == 1:\n",
        "    mode = mode_lst[0]\n",
        "else:\n",
        "    mode = mode_lst[1]\n",
        "\n",
        "\n",
        "sys.stdout.write(str(avg) + '\\n') \n",
        "sys.stdout.write(str(med) + '\\n') \n",
        "sys.stdout.write(str(mode) + '\\n') \n",
        "sys.stdout.write(str(rng) + '\\n') "
      ]
    }
  ]
}