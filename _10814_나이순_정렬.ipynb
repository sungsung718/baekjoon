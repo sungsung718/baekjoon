{
  "nbformat": 4,
  "nbformat_minor": 0,
  "metadata": {
    "colab": {
      "name": "#10814: 나이순 정렬",
      "provenance": [],
      "collapsed_sections": [],
      "authorship_tag": "ABX9TyPCLR6N1SAQuZvzS3lUMqmm",
      "include_colab_link": true
    },
    "kernelspec": {
      "name": "python3",
      "display_name": "Python 3"
    },
    "language_info": {
      "name": "python"
    }
  },
  "cells": [
    {
      "cell_type": "markdown",
      "metadata": {
        "id": "view-in-github",
        "colab_type": "text"
      },
      "source": [
        "<a href=\"https://colab.research.google.com/github/sungsung718/baekjoon/blob/main/_10814_%EB%82%98%EC%9D%B4%EC%88%9C_%EC%A0%95%EB%A0%AC.ipynb\" target=\"_parent\"><img src=\"https://colab.research.google.com/assets/colab-badge.svg\" alt=\"Open In Colab\"/></a>"
      ]
    },
    {
      "cell_type": "code",
      "execution_count": 4,
      "metadata": {
        "colab": {
          "base_uri": "https://localhost:8080/"
        },
        "id": "AZSATH80B8gh",
        "outputId": "cbc5a34e-799c-4863-db2e-1200491897f6"
      },
      "outputs": [
        {
          "output_type": "stream",
          "name": "stdout",
          "text": [
            "3\n",
            "21 Junkyu\n",
            "21 Dohyun\n",
            "20 Sunyoung\n",
            "20 Sunyoung\n",
            "21 Junkyu\n",
            "21 Dohyun\n"
          ]
        }
      ],
      "source": [
        "import sys\n",
        "\n",
        "N = int(input())\n",
        "\n",
        "dic = {}\n",
        "\n",
        "for _ in range(N):\n",
        "    age, name = input().split()\n",
        "    if int(age) in dic.keys():\n",
        "        dic[int(age)].append(name)\n",
        "    else:\n",
        "        dic[int(age)] = []\n",
        "        dic[int(age)].append(name)\n",
        "\n",
        "ageOrder = sorted(dic.keys())\n",
        "for num in ageOrder:\n",
        "    for person in dic[num]:\n",
        "        sys.stdout.write(str(num) + ' ' + person + '\\n')"
      ]
    }
  ]
}